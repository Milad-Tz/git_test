{
 "cells": [
  {
   "cell_type": "code",
   "execution_count": 1,
   "id": "ba8933c9",
   "metadata": {},
   "outputs": [
    {
     "name": "stdout",
     "output_type": "stream",
     "text": [
      "hello git\n"
     ]
    }
   ],
   "source": [
    "print('hello git')"
   ]
  },
  {
   "cell_type": "code",
   "execution_count": 2,
   "id": "446fd165",
   "metadata": {},
   "outputs": [
    {
     "name": "stdout",
     "output_type": "stream",
     "text": [
      "second hello to git\n"
     ]
    }
   ],
   "source": [
    "print('second hello to git')"
   ]
  },
  {
   "cell_type": "code",
   "execution_count": null,
   "id": "6103f8c9",
   "metadata": {},
   "outputs": [],
   "source": [
    "print('third hello to git')"
   ]
  }
 ],
 "metadata": {
  "kernelspec": {
   "display_name": "Python 3 (ipykernel)",
   "language": "python",
   "name": "python3"
  },
  "language_info": {
   "codemirror_mode": {
    "name": "ipython",
    "version": 3
   },
   "file_extension": ".py",
   "mimetype": "text/x-python",
   "name": "python",
   "nbconvert_exporter": "python",
   "pygments_lexer": "ipython3",
   "version": "3.11.0"
  }
 },
 "nbformat": 4,
 "nbformat_minor": 5
}
